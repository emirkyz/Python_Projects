{
 "cells": [
  {
   "cell_type": "code",
   "execution_count": 2,
   "metadata": {},
   "outputs": [
    {
     "name": "stdout",
     "output_type": "stream",
     "text": [
      "   ulke  boy  kilo   yas cinsiyet\n",
      "0    tr  130    30  10.0        e\n",
      "1    tr  125    36  11.0        e\n",
      "2    tr  135    34  10.0        k\n",
      "3    tr  133    30   9.0        k\n",
      "4    tr  129    38  12.0        e\n",
      "5    tr  180    90  30.0        e\n",
      "6    tr  190    80  25.0        e\n",
      "7    tr  175    90  35.0        e\n",
      "8    tr  177    60  22.0        k\n",
      "9    us  185   105  33.0        e\n",
      "10   us  165    55  27.0        k\n",
      "11   us  155    50  44.0        k\n",
      "12   us  160    58   NaN        k\n",
      "13   us  162    59  41.0        k\n",
      "14   us  167    62  55.0        k\n",
      "15   fr  174    70  47.0        e\n",
      "16   fr  193    90   NaN        e\n",
      "17   fr  187    80  27.0        e\n",
      "18   fr  183    88  28.0        e\n",
      "19   fr  159    40  29.0        k\n",
      "20   fr  164    66  32.0        k\n",
      "21   fr  166    56  42.0        k\n",
      "180\n",
      "100\n"
     ]
    }
   ],
   "source": [
    "# -*- coding: utf-8 -*-\n",
    "\"\"\"\n",
    "Created on Mon Jul  6 18:50:13 2020\n",
    "\n",
    "@author: sadievrenseker\n",
    "\"\"\"\n",
    "\n",
    "#kutuphaneler\n",
    "import numpy as np\n",
    "import matplotlib.pyplot as plt\n",
    "import pandas as pd\n",
    "\n",
    "#kodlar\n",
    "#veri yukleme\n",
    "\n",
    "veriler = pd.read_csv(\"eksikveriler.csv\")\n",
    "#pd.read_csv(\"veriler.csv\")\n",
    "\n",
    "print(veriler)\n",
    "\n",
    "#veri on isleme\n",
    "\n",
    "boy = veriler[['boy']]\n",
    "# print(boy)\n",
    "\n",
    "boykilo = veriler[['boy','kilo']]\n",
    "# print(boykilo)\n",
    "\n",
    "x = 10\n",
    "\n",
    "class insan:\n",
    "    boy = 180\n",
    "    def kosmak(self,b):\n",
    "        return b + 10\n",
    "\n",
    "ali = insan()\n",
    "print(ali.boy)\n",
    "print(ali.kosmak(90))\n",
    "\n",
    "#eksik veriler\n",
    "#sci - kit learn\n",
    "\n",
    "from sklearn.impute import SimpleImputer\n",
    "\n",
    "imputer = SimpleImputer(missing_values=np.nan, strategy='mean')\n",
    "\n",
    "Yas = veriler.iloc[:,1:4].values\n",
    "\n",
    "imputer = imputer.fit(Yas[:,1:4])\n",
    "Yas[:,1:4] = imputer.transform(Yas[:,1:4])\n",
    "\n"
   ]
  },
  {
   "cell_type": "code",
   "execution_count": 7,
   "metadata": {},
   "outputs": [
    {
     "name": "stdout",
     "output_type": "stream",
     "text": [
      "[ 1.1216405   2.84582493 -4.0607812 ]\n"
     ]
    },
    {
     "data": {
      "text/plain": [
       "<matplotlib.collections.PathCollection at 0x2c0d73f6460>"
      ]
     },
     "execution_count": 7,
     "metadata": {},
     "output_type": "execute_result"
    },
    {
     "data": {
      "image/png": "[encoded data removed]",
      "text/plain": [
       "<Figure size 1080x648 with 1 Axes>"
      ]
     },
     "metadata": {
      "needs_background": "light"
     },
     "output_type": "display_data"
    }
   ],
   "source": [
    "def polyval(p,x):\n",
    "    n = len(p)\n",
    "    y = 0\n",
    "    for j in range(n):\n",
    "        y+=p[j]*x**j\n",
    "    return y\n",
    "\n",
    "def gauss(a,b):\n",
    "    n,_ = a.shape\n",
    "    for k in range(n-1):\n",
    "        for i in range(k+1,n):\n",
    "            p = a[i,k]/a[k,k]\n",
    "            for j in range(k,n):\n",
    "                a[i,j] -= p*a[k,j]\n",
    "            b[i]-=p*b[k]\n",
    "    x = np.zeros(n)\n",
    "    for i in range(n-1,-1,-1):\n",
    "        t = b[i]\n",
    "        for j in range(i+1,n):\n",
    "            t -= a[i,j]*x[j]\n",
    "        x[i] = t/a[i,i]\n",
    "    return x\n",
    "def polyfit(x,y,d = 1):\n",
    "    n = x.size\n",
    "    X = np.zeros((d+1,d+1))\n",
    "    xy = np.zeros(d+1)\n",
    "    for i in range(d+1):\n",
    "        for j in range(d+1):\n",
    "            for k in range(n):\n",
    "                X[i,j] += (x[k]**i)*(x[k]**j)\n",
    "        for k in range(n):\n",
    "            xy[i] += y[k]*x[k]**i\n",
    "    return gauss(X,xy)\n",
    "plt.figure(figsize=(15,9))\n",
    "n = 60\n",
    "x = np.random.uniform(0,10,size = n)\n",
    "y = 3+2*x-4*x**2 + np.random.normal(0,5,size = n)\n",
    "plt.plot(x,y,\"o\")\n",
    "b = polyfit(x,y,d=2)\n",
    "print(b)\n",
    "\n",
    "xx1 = np.random.randint(0,10)\n",
    "yy1 = polyval(b,xx1)\n",
    "\n",
    "plt.scatter(xx1,yy1,c=\"red\",s=200)"
   ]
  }
 ],
 "metadata": {
  "kernelspec": {
   "display_name": "Python 3.9.10 64-bit",
   "language": "python",
   "name": "python3"
  },
  "language_info": {
   "codemirror_mode": {
    "name": "ipython",
    "version": 3
   },
   "file_extension": ".py",
   "mimetype": "text/x-python",
   "name": "python",
   "nbconvert_exporter": "python",
   "pygments_lexer": "ipython3",
   "version": "3.9.10"
  },
  "orig_nbformat": 4,
  "vscode": {
   "interpreter": {
    "hash": "f023e0664f119992465a2d88bd7df5d53e62783e346e641f5af47edb386a5968"
   }
  }
 },
 "nbformat": 4,
 "nbformat_minor": 2
}
